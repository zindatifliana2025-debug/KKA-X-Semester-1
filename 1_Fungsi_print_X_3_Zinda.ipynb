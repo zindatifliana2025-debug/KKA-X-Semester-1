{
  "nbformat": 4,
  "nbformat_minor": 0,
  "metadata": {
    "colab": {
      "provenance": [],
      "authorship_tag": "ABX9TyPL6V+7Cpp03tlq/0e5F9Z0",
      "include_colab_link": true
    },
    "kernelspec": {
      "name": "python3",
      "display_name": "Python 3"
    },
    "language_info": {
      "name": "python"
    }
  },
  "cells": [
    {
      "cell_type": "markdown",
      "metadata": {
        "id": "view-in-github",
        "colab_type": "text"
      },
      "source": [
        "<a href=\"https://colab.research.google.com/github/zindatifliana2025-debug/KKA-X-Semester-1/blob/main/1_Fungsi_print_X_3_Zinda.ipynb\" target=\"_parent\"><img src=\"https://colab.research.google.com/assets/colab-badge.svg\" alt=\"Open In Colab\"/></a>"
      ]
    },
    {
      "cell_type": "markdown",
      "source": [
        "#zshohyy"
      ],
      "metadata": {
        "id": "W-_0Xqzvi3LE"
      }
    },
    {
      "cell_type": "markdown",
      "source": [
        "Nama:Zinda Sohi Tifliana\n",
        "\n",
        "Kelas:X.3\n",
        "\n",
        "Absen:36"
      ],
      "metadata": {
        "id": "XigzH4b8iZvd"
      }
    },
    {
      "cell_type": "code",
      "execution_count": null,
      "metadata": {
        "id": "Nz-_2l-tgmru",
        "colab": {
          "base_uri": "https://localhost:8080/"
        },
        "outputId": "1389002c-1793-43a6-934a-4146ac4ae873"
      },
      "outputs": [
        {
          "output_type": "stream",
          "name": "stdout",
          "text": [
            "zinda sohi tifliana\n"
          ]
        }
      ],
      "source": [
        "print(\"zinda sohi tifliana\")"
      ]
    },
    {
      "cell_type": "markdown",
      "source": [
        "#Menampilkan nilai variabel"
      ],
      "metadata": {
        "id": "d0jKfdchkpVj"
      }
    },
    {
      "cell_type": "code",
      "source": [
        "Nama = \"Zinda Sohi Tifliana\"\n",
        "Usia = 15"
      ],
      "metadata": {
        "id": "B2cB2zUqk2MB"
      },
      "execution_count": null,
      "outputs": []
    },
    {
      "cell_type": "code",
      "source": [
        "print(Nama)"
      ],
      "metadata": {
        "colab": {
          "base_uri": "https://localhost:8080/"
        },
        "id": "qUoUxPtmnAYd",
        "outputId": "de99424a-fe5a-4f82-eddd-6969c797d4cc"
      },
      "execution_count": null,
      "outputs": [
        {
          "output_type": "stream",
          "name": "stdout",
          "text": [
            "Zinda Sohi Tifliana\n"
          ]
        }
      ]
    },
    {
      "cell_type": "code",
      "source": [
        "print(\"Nama\")"
      ],
      "metadata": {
        "colab": {
          "base_uri": "https://localhost:8080/"
        },
        "id": "vQJHNSGJmUTz",
        "outputId": "bd9b111f-99aa-4be7-d116-dce8d58ec65b"
      },
      "execution_count": null,
      "outputs": [
        {
          "output_type": "stream",
          "name": "stdout",
          "text": [
            "Nama\n"
          ]
        }
      ]
    },
    {
      "cell_type": "code",
      "source": [
        "print(Usia)"
      ],
      "metadata": {
        "colab": {
          "base_uri": "https://localhost:8080/"
        },
        "id": "_detzyzOoD2t",
        "outputId": "1dc9249c-fad3-424d-f75a-2e14ca0875d9"
      },
      "execution_count": null,
      "outputs": [
        {
          "output_type": "stream",
          "name": "stdout",
          "text": [
            "15\n"
          ]
        }
      ]
    },
    {
      "cell_type": "code",
      "source": [
        "print(\"Usia\")"
      ],
      "metadata": {
        "colab": {
          "base_uri": "https://localhost:8080/"
        },
        "id": "1AwCygypmnHZ",
        "outputId": "45788c01-5219-46de-e0d9-22c2af63d0c8"
      },
      "execution_count": null,
      "outputs": [
        {
          "output_type": "stream",
          "name": "stdout",
          "text": [
            "Usia\n"
          ]
        }
      ]
    },
    {
      "cell_type": "markdown",
      "source": [
        "Latihan!!\n",
        "\n",
        "Buat variabel berat_badan,lalu tampilkan nilai variabel tersebut.\n",
        "\n",
        "Buat variabel nama_saudara,lalu tampilkan nilai variabel tersebut."
      ],
      "metadata": {
        "id": "zvrtugoXpxn6"
      }
    },
    {
      "cell_type": "code",
      "source": [
        "Berat_badan = \"42\""
      ],
      "metadata": {
        "id": "8hC-67Mzoh1g"
      },
      "execution_count": null,
      "outputs": []
    },
    {
      "cell_type": "code",
      "source": [
        "print(Berat_badan)"
      ],
      "metadata": {
        "colab": {
          "base_uri": "https://localhost:8080/"
        },
        "id": "6w_uWdCrpHLP",
        "outputId": "c60d1928-c0e0-443c-bb0d-8bfcbb69074e"
      },
      "execution_count": null,
      "outputs": [
        {
          "output_type": "stream",
          "name": "stdout",
          "text": [
            "42\n"
          ]
        }
      ]
    },
    {
      "cell_type": "code",
      "source": [
        "print(\"Berat_badan\")"
      ],
      "metadata": {
        "colab": {
          "base_uri": "https://localhost:8080/"
        },
        "id": "OPeRhfCYpHPn",
        "outputId": "050c0e1c-27fe-486d-f8c3-0a789937291e"
      },
      "execution_count": null,
      "outputs": [
        {
          "output_type": "stream",
          "name": "stdout",
          "text": [
            "Berat_badan\n"
          ]
        }
      ]
    },
    {
      "cell_type": "code",
      "source": [
        "Nama_saudara = \"Alyana Birul Lafif\""
      ],
      "metadata": {
        "id": "sO6C0Gu1pQYc"
      },
      "execution_count": null,
      "outputs": []
    },
    {
      "cell_type": "code",
      "source": [
        "print(Nama_saudara)"
      ],
      "metadata": {
        "colab": {
          "base_uri": "https://localhost:8080/"
        },
        "id": "i23uQINtphbd",
        "outputId": "568ffb99-74f3-43a3-de64-4b0e6f39ec0b"
      },
      "execution_count": null,
      "outputs": [
        {
          "output_type": "stream",
          "name": "stdout",
          "text": [
            "Alyana Birul Lafif\n"
          ]
        }
      ]
    },
    {
      "cell_type": "code",
      "source": [
        "print(\"Nama_saudara\")"
      ],
      "metadata": {
        "colab": {
          "base_uri": "https://localhost:8080/"
        },
        "id": "dBc6ebt8plru",
        "outputId": "d0c9b403-2715-41d0-ffe3-948967dc422e"
      },
      "execution_count": null,
      "outputs": [
        {
          "output_type": "stream",
          "name": "stdout",
          "text": [
            "Nama_saudara\n"
          ]
        }
      ]
    },
    {
      "cell_type": "markdown",
      "source": [
        "#Menampilkan Nilai Variabel dan Teks Bebas"
      ],
      "metadata": {
        "id": "ry99HkJssD3k"
      }
    },
    {
      "cell_type": "code",
      "source": [
        "print(\"Hallo nama saya\",Nama,\". Usia saya\",Usia,\"tahun.\")"
      ],
      "metadata": {
        "colab": {
          "base_uri": "https://localhost:8080/"
        },
        "id": "jrIeIQXJsPjX",
        "outputId": "b16fc7dd-a6f6-4111-99f4-c553bffdbb95"
      },
      "execution_count": null,
      "outputs": [
        {
          "output_type": "stream",
          "name": "stdout",
          "text": [
            "Hallo nama saya Zinda Sohi Tifliana . Usia saya 15 tahun.\n"
          ]
        }
      ]
    },
    {
      "cell_type": "code",
      "source": [
        "print(\"Halo nama saya \"+Nama+\". Usia saya \"+str(Usia)+\"tahun.\")"
      ],
      "metadata": {
        "colab": {
          "base_uri": "https://localhost:8080/"
        },
        "id": "DHlvRLXMs6HM",
        "outputId": "602e621f-598e-40d1-ae12-16379b70cf06"
      },
      "execution_count": null,
      "outputs": [
        {
          "output_type": "stream",
          "name": "stdout",
          "text": [
            "Halo nama saya Zinda Sohi Tifliana. Usia saya 15tahun.\n"
          ]
        }
      ]
    },
    {
      "cell_type": "code",
      "source": [
        "print(f\"Halo nama saya {Nama}. Usia saya {Usia} tahun.\")"
      ],
      "metadata": {
        "colab": {
          "base_uri": "https://localhost:8080/"
        },
        "id": "IU1tMM-TuGBs",
        "outputId": "28a0e909-578b-48e5-bfa6-c40c9c46c38a"
      },
      "execution_count": null,
      "outputs": [
        {
          "output_type": "stream",
          "name": "stdout",
          "text": [
            "Halo nama saya Zinda Sohi Tifliana. Usia saya 15 tahun.\n"
          ]
        }
      ]
    },
    {
      "cell_type": "markdown",
      "source": [
        "Latihan soal:\n",
        "\n",
        "Gunakan ketiga metode untuk menampilkan teks bebas dan nilai variabel untuk kalimat berikut:\n",
        "\n",
        "Nama saudara saya adalah...Berat badannya adalah..."
      ],
      "metadata": {
        "id": "Va-KuPpcuiCM"
      }
    },
    {
      "cell_type": "code",
      "source": [
        "print(\"Nama saudara saya adalah\",Nama_saudara,\". Berat badannya adalah\",Berat_badan,\".\")"
      ],
      "metadata": {
        "colab": {
          "base_uri": "https://localhost:8080/"
        },
        "id": "nHl-CvbEvD91",
        "outputId": "ad58f055-c243-4699-9f68-05a78f829af8"
      },
      "execution_count": null,
      "outputs": [
        {
          "output_type": "stream",
          "name": "stdout",
          "text": [
            "Nama saudara saya adalah Alyana Birul Lafif . Berat badannya adalah 42 .\n"
          ]
        }
      ]
    },
    {
      "cell_type": "code",
      "source": [
        "print(\"Nama saudara saya adalah \"+Nama_saudara+\". Berat badannya adalah \"+str(Berat_badan)+\" .\")"
      ],
      "metadata": {
        "colab": {
          "base_uri": "https://localhost:8080/"
        },
        "id": "FKh4YHz3wyeo",
        "outputId": "bf878878-6f64-4e21-c627-4a9c74c8ae83"
      },
      "execution_count": null,
      "outputs": [
        {
          "output_type": "stream",
          "name": "stdout",
          "text": [
            "Nama saudara saya adalah Alyana Birul Lafif. Berat badannya adalah 42 .\n"
          ]
        }
      ]
    },
    {
      "cell_type": "code",
      "source": [
        "print(f\"Nama saudara saya adalah {Nama_saudara}. Berat badannya adalah {Berat_badan}.\")"
      ],
      "metadata": {
        "colab": {
          "base_uri": "https://localhost:8080/"
        },
        "id": "ZEJ-loqzxR7O",
        "outputId": "053abab7-8069-445d-f080-f19ad32303cc"
      },
      "execution_count": null,
      "outputs": [
        {
          "output_type": "stream",
          "name": "stdout",
          "text": [
            "Nama saudara saya adalah Alyana Birul Lafif. Berat badannya adalah 42.\n"
          ]
        }
      ]
    }
  ]
}
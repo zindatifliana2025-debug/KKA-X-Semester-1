{
  "nbformat": 4,
  "nbformat_minor": 0,
  "metadata": {
    "colab": {
      "provenance": [],
      "authorship_tag": "ABX9TyOkz8qYe1/dz7PUL27sC/oO",
      "include_colab_link": true
    },
    "kernelspec": {
      "name": "python3",
      "display_name": "Python 3"
    },
    "language_info": {
      "name": "python"
    }
  },
  "cells": [
    {
      "cell_type": "markdown",
      "metadata": {
        "id": "view-in-github",
        "colab_type": "text"
      },
      "source": [
        "<a href=\"https://colab.research.google.com/github/zindatifliana2025-debug/KKA-X-Semester-1/blob/main/1_Fungsi_print_X_3_Zinda.ipynb\" target=\"_parent\"><img src=\"https://colab.research.google.com/assets/colab-badge.svg\" alt=\"Open In Colab\"/></a>"
      ]
    },
    {
      "cell_type": "markdown",
      "source": [
        "#zshohyy"
      ],
      "metadata": {
        "id": "W-_0Xqzvi3LE"
      }
    },
    {
      "cell_type": "markdown",
      "source": [
        "Nama:Zinda Sohi Tifliana\n",
        "\n",
        "Kelas:X.3\n",
        "\n",
        "Absen:36"
      ],
      "metadata": {
        "id": "XigzH4b8iZvd"
      }
    },
    {
      "cell_type": "markdown",
      "source": [
        "#Menampilkan teks bebas"
      ],
      "metadata": {
        "id": "rNPLWnyq31EL"
      }
    },
    {
      "cell_type": "code",
      "source": [
        "print(\"zinda sohi tifliana\")"
      ],
      "metadata": {
        "colab": {
          "base_uri": "https://localhost:8080/"
        },
        "id": "dmY_svaK3zVI",
        "outputId": "11569e3b-f529-4c59-fdeb-2508f9fd63c8"
      },
      "execution_count": 1,
      "outputs": [
        {
          "output_type": "stream",
          "name": "stdout",
          "text": [
            "zinda sohi tifliana\n"
          ]
        }
      ]
    },
    {
      "cell_type": "code",
      "execution_count": 2,
      "metadata": {
        "id": "Nz-_2l-tgmru",
        "colab": {
          "base_uri": "https://localhost:8080/"
        },
        "outputId": "c0a9d821-7f4d-470b-af0f-df71484d715f"
      },
      "outputs": [
        {
          "output_type": "stream",
          "name": "stdout",
          "text": [
            "zinda sohi tifliana\n"
          ]
        }
      ],
      "source": [
        "print('zinda sohi tifliana')"
      ]
    },
    {
      "cell_type": "markdown",
      "source": [
        "#Menampilkan nilai variabel"
      ],
      "metadata": {
        "id": "d0jKfdchkpVj"
      }
    },
    {
      "cell_type": "code",
      "source": [
        "Nama = \"Zinda Sohi Tifliana\"\n",
        "Usia = 15"
      ],
      "metadata": {
        "id": "B2cB2zUqk2MB"
      },
      "execution_count": 3,
      "outputs": []
    },
    {
      "cell_type": "code",
      "source": [
        "print(Nama)"
      ],
      "metadata": {
        "colab": {
          "base_uri": "https://localhost:8080/"
        },
        "id": "qUoUxPtmnAYd",
        "outputId": "b828ef24-931b-4a55-fc44-159b6cdfea92"
      },
      "execution_count": 4,
      "outputs": [
        {
          "output_type": "stream",
          "name": "stdout",
          "text": [
            "Zinda Sohi Tifliana\n"
          ]
        }
      ]
    },
    {
      "cell_type": "code",
      "source": [
        "print(\"Nama\")"
      ],
      "metadata": {
        "colab": {
          "base_uri": "https://localhost:8080/"
        },
        "id": "vQJHNSGJmUTz",
        "outputId": "ed969443-81ad-484e-b375-fd9ec8084445"
      },
      "execution_count": 5,
      "outputs": [
        {
          "output_type": "stream",
          "name": "stdout",
          "text": [
            "Nama\n"
          ]
        }
      ]
    },
    {
      "cell_type": "code",
      "source": [
        "print(Usia)"
      ],
      "metadata": {
        "colab": {
          "base_uri": "https://localhost:8080/"
        },
        "id": "_detzyzOoD2t",
        "outputId": "5e345ff3-53ae-4cda-b70f-d45047ca94c9"
      },
      "execution_count": 6,
      "outputs": [
        {
          "output_type": "stream",
          "name": "stdout",
          "text": [
            "15\n"
          ]
        }
      ]
    },
    {
      "cell_type": "code",
      "source": [
        "print(\"Usia\")"
      ],
      "metadata": {
        "colab": {
          "base_uri": "https://localhost:8080/"
        },
        "id": "1AwCygypmnHZ",
        "outputId": "a5c3c271-fe4f-4ac4-8e76-2def4d2eb60c"
      },
      "execution_count": 7,
      "outputs": [
        {
          "output_type": "stream",
          "name": "stdout",
          "text": [
            "Usia\n"
          ]
        }
      ]
    },
    {
      "cell_type": "markdown",
      "source": [
        "Latihan!!\n",
        "\n",
        "Buat variabel berat_badan,lalu tampilkan nilai variabel tersebut.\n",
        "\n",
        "Buat variabel nama_saudara,lalu tampilkan nilai variabel tersebut."
      ],
      "metadata": {
        "id": "zvrtugoXpxn6"
      }
    },
    {
      "cell_type": "code",
      "source": [
        "Berat_badan = \"42\""
      ],
      "metadata": {
        "id": "8hC-67Mzoh1g"
      },
      "execution_count": 8,
      "outputs": []
    },
    {
      "cell_type": "code",
      "source": [
        "print(Berat_badan)"
      ],
      "metadata": {
        "colab": {
          "base_uri": "https://localhost:8080/"
        },
        "id": "6w_uWdCrpHLP",
        "outputId": "b7d5afd3-6b37-4058-f8c4-a03fb9f16c1c"
      },
      "execution_count": 9,
      "outputs": [
        {
          "output_type": "stream",
          "name": "stdout",
          "text": [
            "42\n"
          ]
        }
      ]
    },
    {
      "cell_type": "code",
      "source": [
        "print(\"Berat_badan\")"
      ],
      "metadata": {
        "colab": {
          "base_uri": "https://localhost:8080/"
        },
        "id": "OPeRhfCYpHPn",
        "outputId": "f8e6f80b-dafa-4d12-afa3-6c4a961e89a8"
      },
      "execution_count": 10,
      "outputs": [
        {
          "output_type": "stream",
          "name": "stdout",
          "text": [
            "Berat_badan\n"
          ]
        }
      ]
    },
    {
      "cell_type": "code",
      "source": [
        "Nama_saudara = \"Alyana Birul Lafif\""
      ],
      "metadata": {
        "id": "sO6C0Gu1pQYc"
      },
      "execution_count": 11,
      "outputs": []
    },
    {
      "cell_type": "code",
      "source": [
        "print(Nama_saudara)"
      ],
      "metadata": {
        "colab": {
          "base_uri": "https://localhost:8080/"
        },
        "id": "i23uQINtphbd",
        "outputId": "3e33e147-3e44-4dec-abe9-14e634c712c3"
      },
      "execution_count": 12,
      "outputs": [
        {
          "output_type": "stream",
          "name": "stdout",
          "text": [
            "Alyana Birul Lafif\n"
          ]
        }
      ]
    },
    {
      "cell_type": "code",
      "source": [
        "print(\"Nama_saudara\")"
      ],
      "metadata": {
        "colab": {
          "base_uri": "https://localhost:8080/"
        },
        "id": "dBc6ebt8plru",
        "outputId": "d31cae9f-2a47-4148-8594-ede2e3e1c5e6"
      },
      "execution_count": 13,
      "outputs": [
        {
          "output_type": "stream",
          "name": "stdout",
          "text": [
            "Nama_saudara\n"
          ]
        }
      ]
    },
    {
      "cell_type": "markdown",
      "source": [
        "#Menampilkan Nilai Variabel dan Teks Bebas"
      ],
      "metadata": {
        "id": "ry99HkJssD3k"
      }
    },
    {
      "cell_type": "code",
      "source": [
        "print(\"Hallo nama saya\",Nama,\". Usia saya\",Usia,\"tahun.\")"
      ],
      "metadata": {
        "colab": {
          "base_uri": "https://localhost:8080/"
        },
        "id": "jrIeIQXJsPjX",
        "outputId": "038667df-6e33-41fe-a0e2-ff43082c68c9"
      },
      "execution_count": 14,
      "outputs": [
        {
          "output_type": "stream",
          "name": "stdout",
          "text": [
            "Hallo nama saya Zinda Sohi Tifliana . Usia saya 15 tahun.\n"
          ]
        }
      ]
    },
    {
      "cell_type": "code",
      "source": [
        "print(\"Halo nama saya \"+Nama+\". Usia saya \"+str(Usia)+\"tahun.\")"
      ],
      "metadata": {
        "colab": {
          "base_uri": "https://localhost:8080/"
        },
        "id": "DHlvRLXMs6HM",
        "outputId": "c1207b94-8604-4188-c9c5-328d7b18a10a"
      },
      "execution_count": 15,
      "outputs": [
        {
          "output_type": "stream",
          "name": "stdout",
          "text": [
            "Halo nama saya Zinda Sohi Tifliana. Usia saya 15tahun.\n"
          ]
        }
      ]
    },
    {
      "cell_type": "code",
      "source": [
        "print(f\"Halo nama saya {Nama}. Usia saya {Usia} tahun.\")"
      ],
      "metadata": {
        "colab": {
          "base_uri": "https://localhost:8080/"
        },
        "id": "IU1tMM-TuGBs",
        "outputId": "de4dddc5-1a5e-4229-b402-1ac26306225c"
      },
      "execution_count": 16,
      "outputs": [
        {
          "output_type": "stream",
          "name": "stdout",
          "text": [
            "Halo nama saya Zinda Sohi Tifliana. Usia saya 15 tahun.\n"
          ]
        }
      ]
    },
    {
      "cell_type": "markdown",
      "source": [
        "Latihan soal:\n",
        "\n",
        "Gunakan ketiga metode untuk menampilkan teks bebas dan nilai variabel untuk kalimat berikut:\n",
        "\n",
        "Nama saudara saya adalah...Berat badannya adalah..."
      ],
      "metadata": {
        "id": "Va-KuPpcuiCM"
      }
    },
    {
      "cell_type": "code",
      "source": [
        "print(\"Nama saudara saya adalah\",Nama_saudara,\". Berat badannya adalah\",Berat_badan,\".\")"
      ],
      "metadata": {
        "colab": {
          "base_uri": "https://localhost:8080/"
        },
        "id": "nHl-CvbEvD91",
        "outputId": "4cc63a53-5a72-4eb0-c3b2-aeaeeb516b7b"
      },
      "execution_count": 17,
      "outputs": [
        {
          "output_type": "stream",
          "name": "stdout",
          "text": [
            "Nama saudara saya adalah Alyana Birul Lafif . Berat badannya adalah 42 .\n"
          ]
        }
      ]
    },
    {
      "cell_type": "code",
      "source": [
        "print(\"Nama saudara saya adalah \"+Nama_saudara+\". Berat badannya adalah \"+str(Berat_badan)+\" .\")"
      ],
      "metadata": {
        "colab": {
          "base_uri": "https://localhost:8080/"
        },
        "id": "FKh4YHz3wyeo",
        "outputId": "ac6adad6-0088-4315-acf1-55dc698542b1"
      },
      "execution_count": 18,
      "outputs": [
        {
          "output_type": "stream",
          "name": "stdout",
          "text": [
            "Nama saudara saya adalah Alyana Birul Lafif. Berat badannya adalah 42 .\n"
          ]
        }
      ]
    },
    {
      "cell_type": "code",
      "source": [
        "print(f\"Nama saudara saya adalah {Nama_saudara}. Berat badannya adalah {Berat_badan}.\")"
      ],
      "metadata": {
        "colab": {
          "base_uri": "https://localhost:8080/"
        },
        "id": "ZEJ-loqzxR7O",
        "outputId": "816d1278-63df-4c06-d769-0bef62f06872"
      },
      "execution_count": 19,
      "outputs": [
        {
          "output_type": "stream",
          "name": "stdout",
          "text": [
            "Nama saudara saya adalah Alyana Birul Lafif. Berat badannya adalah 42.\n"
          ]
        }
      ]
    },
    {
      "cell_type": "markdown",
      "source": [
        "#Menampilkan hasil perhitungan"
      ],
      "metadata": {
        "id": "h-HG7oJ0A-rZ"
      }
    },
    {
      "cell_type": "code",
      "source": [
        "pembagian = 10/2"
      ],
      "metadata": {
        "id": "jccFVPHiBH59"
      },
      "execution_count": 20,
      "outputs": []
    },
    {
      "cell_type": "code",
      "source": [
        "print(pembagian)"
      ],
      "metadata": {
        "colab": {
          "base_uri": "https://localhost:8080/"
        },
        "id": "JVPZygyJBO0I",
        "outputId": "6c7c7f6f-7ceb-4bf3-c590-e006f8ba84ae"
      },
      "execution_count": 21,
      "outputs": [
        {
          "output_type": "stream",
          "name": "stdout",
          "text": [
            "5.0\n"
          ]
        }
      ]
    },
    {
      "cell_type": "code",
      "source": [
        "print(5+3)"
      ],
      "metadata": {
        "colab": {
          "base_uri": "https://localhost:8080/"
        },
        "id": "hDZ4WGISBTqN",
        "outputId": "9fd89d87-710c-4720-efa1-cbad7d0c4706"
      },
      "execution_count": 22,
      "outputs": [
        {
          "output_type": "stream",
          "name": "stdout",
          "text": [
            "8\n"
          ]
        }
      ]
    },
    {
      "cell_type": "code",
      "source": [
        "print(\"Hasilnya adalah\", 5 * 4)"
      ],
      "metadata": {
        "colab": {
          "base_uri": "https://localhost:8080/"
        },
        "id": "ZU95gfBsBZ7k",
        "outputId": "73dd3996-f2b0-453b-d6db-ac8e9df71577"
      },
      "execution_count": 23,
      "outputs": [
        {
          "output_type": "stream",
          "name": "stdout",
          "text": [
            "Hasilnya adalah 20\n"
          ]
        }
      ]
    },
    {
      "cell_type": "markdown",
      "source": [
        "#Escape Character"
      ],
      "metadata": {
        "id": "4umazUmXByhe"
      }
    },
    {
      "cell_type": "code",
      "source": [
        "print(\"Nama:Zinda Sohi Tifliana\n",
        "Kelas: X.3\n",
        "No. absen: 36\")"
      ],
      "metadata": {
        "colab": {
          "base_uri": "https://localhost:8080/",
          "height": 176
        },
        "id": "Rrt9v-DzuNFO",
        "outputId": "6a5ea7ee-65a3-45cd-94c7-07cde9fb0e0a"
      },
      "execution_count": 24,
      "outputs": [
        {
          "output_type": "error",
          "ename": "SyntaxError",
          "evalue": "unterminated string literal (detected at line 1) (ipython-input-4003187579.py, line 1)",
          "traceback": [
            "\u001b[0;36m  File \u001b[0;32m\"/tmp/ipython-input-4003187579.py\"\u001b[0;36m, line \u001b[0;32m1\u001b[0m\n\u001b[0;31m    print(\"Nama:Zinda Sohi Tifliana\u001b[0m\n\u001b[0m          ^\u001b[0m\n\u001b[0;31mSyntaxError\u001b[0m\u001b[0;31m:\u001b[0m unterminated string literal (detected at line 1)\n"
          ]
        }
      ]
    },
    {
      "cell_type": "code",
      "source": [
        "print(\"Nama:Zinda Sohi Tifliana\")\n",
        "print(\"Kelas: X.3\")\n",
        "print(\"No. absen: 36\")"
      ],
      "metadata": {
        "colab": {
          "base_uri": "https://localhost:8080/"
        },
        "id": "3sWf64WSuw-z",
        "outputId": "6c6073b7-73d4-41ed-d980-46f2286c8540"
      },
      "execution_count": 25,
      "outputs": [
        {
          "output_type": "stream",
          "name": "stdout",
          "text": [
            "Nama:Zinda Sohi Tifliana\n",
            "Kelas: X.3\n",
            "No. absen: 36\n"
          ]
        }
      ]
    },
    {
      "cell_type": "code",
      "source": [
        "print(\"\"\"Nama:Zinda Sohi Tifliana\n",
        "Kelas: X.3\n",
        "No. absen: 36\"\"\")"
      ],
      "metadata": {
        "colab": {
          "base_uri": "https://localhost:8080/"
        },
        "id": "tjtot5HVuKrw",
        "outputId": "b3bcd2c8-9bae-435e-f9d0-294cdbbae743"
      },
      "execution_count": 26,
      "outputs": [
        {
          "output_type": "stream",
          "name": "stdout",
          "text": [
            "Nama:Zinda Sohi Tifliana\n",
            "Kelas: X.3\n",
            "No. absen: 36\n"
          ]
        }
      ]
    },
    {
      "cell_type": "code",
      "source": [
        "print(\"Nama:Zinda Sohi Tifliana\\nKelas: X.3\\nNo. absen: 36\")"
      ],
      "metadata": {
        "colab": {
          "base_uri": "https://localhost:8080/"
        },
        "id": "_vMYAR5GuLGC",
        "outputId": "4fc300c3-155b-4fd1-ca3a-a46d2caea8a6"
      },
      "execution_count": 27,
      "outputs": [
        {
          "output_type": "stream",
          "name": "stdout",
          "text": [
            "Nama:Zinda Sohi Tifliana\n",
            "Kelas: X.3\n",
            "No. absen: 36\n"
          ]
        }
      ]
    },
    {
      "cell_type": "code",
      "source": [
        "print(\"\"\"Nama\\t\\t:Zinda Sohi Tifliana\n",
        "Kelas\\t\\t: X.3\n",
        "No. absen\\t: 36\"\"\")"
      ],
      "metadata": {
        "colab": {
          "base_uri": "https://localhost:8080/"
        },
        "id": "chNkCdpqvuU5",
        "outputId": "bd43c2ca-9927-420b-f84d-2d5467ec965b"
      },
      "execution_count": 28,
      "outputs": [
        {
          "output_type": "stream",
          "name": "stdout",
          "text": [
            "Nama\t\t:Zinda Sohi Tifliana\n",
            "Kelas\t\t: X.3\n",
            "No. absen\t: 36\n"
          ]
        }
      ]
    },
    {
      "cell_type": "code",
      "source": [
        "print(\"Nama: Habibie Ainun\")"
      ],
      "metadata": {
        "colab": {
          "base_uri": "https://localhost:8080/"
        },
        "id": "bl2z6RY_wFhI",
        "outputId": "5b3b94dc-1685-4f64-bfaf-da18db66712c"
      },
      "execution_count": 30,
      "outputs": [
        {
          "output_type": "stream",
          "name": "stdout",
          "text": [
            "Nama: Habibie Ainun\n"
          ]
        }
      ]
    },
    {
      "cell_type": "code",
      "source": [
        "print('Nama: Habibie Ainun')"
      ],
      "metadata": {
        "colab": {
          "base_uri": "https://localhost:8080/"
        },
        "id": "cV7n6xbiwFvH",
        "outputId": "6fac4183-2f16-47ae-8567-0d64a2754063"
      },
      "execution_count": 29,
      "outputs": [
        {
          "output_type": "stream",
          "name": "stdout",
          "text": [
            "Nama: Habibie Ainun\n"
          ]
        }
      ]
    },
    {
      "cell_type": "code",
      "source": [
        "print(\"Nama: Habibie A'inun\")"
      ],
      "metadata": {
        "colab": {
          "base_uri": "https://localhost:8080/"
        },
        "id": "9JGjjHaIwGz3",
        "outputId": "e76ccce5-5eb8-4bb9-ab89-46633d387cdb"
      },
      "execution_count": 31,
      "outputs": [
        {
          "output_type": "stream",
          "name": "stdout",
          "text": [
            "Nama: Habibie A'inun\n"
          ]
        }
      ]
    },
    {
      "cell_type": "code",
      "source": [
        "print('Nama: Habibie A\\'inun')"
      ],
      "metadata": {
        "colab": {
          "base_uri": "https://localhost:8080/"
        },
        "id": "6S78g1hcwG5I",
        "outputId": "deeb30cc-ac60-4b86-9cb8-33d2518f34bf"
      },
      "execution_count": 32,
      "outputs": [
        {
          "output_type": "stream",
          "name": "stdout",
          "text": [
            "Nama: Habibie A'inun\n"
          ]
        }
      ]
    },
    {
      "cell_type": "code",
      "source": [
        "print(\"Bu Shinta berkata, \\\"Silahkan lihat ke layar TV.\\\".\")"
      ],
      "metadata": {
        "colab": {
          "base_uri": "https://localhost:8080/"
        },
        "id": "G4k8-aqIw2jT",
        "outputId": "8a6af079-b980-4d0d-9744-09cd1b25849d"
      },
      "execution_count": 33,
      "outputs": [
        {
          "output_type": "stream",
          "name": "stdout",
          "text": [
            "Bu Shinta berkata, \"Silahkan lihat ke layar TV.\".\n"
          ]
        }
      ]
    },
    {
      "cell_type": "code",
      "source": [
        "print('Bu Shinta berkata, \"Silahkan lihat ke layar TV.\".')"
      ],
      "metadata": {
        "colab": {
          "base_uri": "https://localhost:8080/"
        },
        "id": "b9rpFuNDw2o9",
        "outputId": "d7ca8a92-5365-4405-855c-b169aaeb3fc9"
      },
      "execution_count": 34,
      "outputs": [
        {
          "output_type": "stream",
          "name": "stdout",
          "text": [
            "Bu Shinta berkata, \"Silahkan lihat ke layar TV.\".\n"
          ]
        }
      ]
    },
    {
      "cell_type": "code",
      "source": [
        "print(\"\"\"Nama file: Tugas KKA\n",
        "Lokasi file: D:\\\\MAN Demak\\\\KKA\"\"\")"
      ],
      "metadata": {
        "colab": {
          "base_uri": "https://localhost:8080/"
        },
        "id": "39Po4E5Ow3M7",
        "outputId": "f2d66904-4162-4d67-f2d1-8d3dd65bef96"
      },
      "execution_count": 35,
      "outputs": [
        {
          "output_type": "stream",
          "name": "stdout",
          "text": [
            "Nama file: Tugas KKA\n",
            "Lokasi file: D:\\MAN Demak\\KKA\n"
          ]
        }
      ]
    },
    {
      "cell_type": "markdown",
      "source": [
        "Latihan soal:\n",
        "\n",
        "Tampilkan teks sebagai berikut:\n",
        "\n",
        "Nama file: Ulangan Harian Ma'rifatullah\n",
        "\n",
        "Lokasi file: D:\\Mata kuliah\\Ma'rifatullah\n",
        "\n",
        "Peraturan:\n",
        "\n",
        "Gunakan satu fungsi print\n",
        "\n",
        "Gunakan kutip satu\n",
        "\n",
        "Rapihkan tanda titik dua-nya dengan tab"
      ],
      "metadata": {
        "id": "B5zRTsauyKBz"
      }
    },
    {
      "cell_type": "code",
      "source": [
        "print('Nama file\\t: Ulangan Harian Ma\\'rifatullah\\nLokasi file\\t: D:\\\\Mata kuliah\\\\Ma\\'rifatullah')"
      ],
      "metadata": {
        "colab": {
          "base_uri": "https://localhost:8080/"
        },
        "id": "A29VjtjSw3vT",
        "outputId": "d9fb2d9b-16ea-4bb4-9c90-4aba19d7e955"
      },
      "execution_count": 36,
      "outputs": [
        {
          "output_type": "stream",
          "name": "stdout",
          "text": [
            "Nama file\t: Ulangan Harian Ma'rifatullah\n",
            "Lokasi file\t: D:\\Mata kuliah\\Ma'rifatullah\n"
          ]
        }
      ]
    },
    {
      "cell_type": "code",
      "source": [],
      "metadata": {
        "id": "FBphNcZWw313"
      },
      "execution_count": 36,
      "outputs": []
    }
  ]
}